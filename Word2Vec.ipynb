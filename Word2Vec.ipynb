{
  "nbformat": 4,
  "nbformat_minor": 0,
  "metadata": {
    "colab": {
      "name": "Word2Vec",
      "provenance": [],
      "private_outputs": true,
      "authorship_tag": "ABX9TyNtRHjzGKZEJs9kPSVZx30V",
      "include_colab_link": true
    },
    "kernelspec": {
      "name": "python3",
      "display_name": "Python 3"
    }
  },
  "cells": [
    {
      "cell_type": "markdown",
      "metadata": {
        "id": "view-in-github",
        "colab_type": "text"
      },
      "source": [
        "<a href=\"https://colab.research.google.com/github/Gail529/Text-Classification-/blob/master/Word2Vec.ipynb\" target=\"_parent\"><img src=\"https://colab.research.google.com/assets/colab-badge.svg\" alt=\"Open In Colab\"/></a>"
      ]
    },
    {
      "cell_type": "code",
      "metadata": {
        "id": "xwgGYgdWmTGc",
        "colab_type": "code",
        "colab": {}
      },
      "source": [
        "import pandas as pd\n",
        "import numpy as np\n",
        "import nltk\n",
        "nltk.download('punkt')\n",
        "nltk.download('stopwords')\n",
        "import re \n",
        "import string\n",
        "from nltk.tokenize import word_tokenize,sent_tokenize\n",
        "nltk.download('wordnet')\n",
        "from nltk.stem import WordNetLemmatizer\n",
        "from nltk.corpus import stopwords"
      ],
      "execution_count": null,
      "outputs": []
    },
    {
      "cell_type": "code",
      "metadata": {
        "id": "PzJ6LcYK5AyL",
        "colab_type": "code",
        "colab": {}
      },
      "source": [
        "data=pd.read_csv('/content/train (1).csv')\n",
        "data.shape"
      ],
      "execution_count": null,
      "outputs": []
    },
    {
      "cell_type": "code",
      "metadata": {
        "id": "X7b_jQtl5Lq5",
        "colab_type": "code",
        "colab": {}
      },
      "source": [
        "#preprocessing all the songs\n",
        "for i in range(0,len(data)):\n",
        "    tweet=data.iloc[i,3]\n",
        "    #removing numbers\n",
        "    text=re.sub(r'\\d+','',tweet)\n",
        " \n",
        "    #lowercasing\n",
        "    text_lower=text.lower()\n",
        " \n",
        "    #punctuation removal \n",
        "    def  remove_punctuation(word): #function will take in the lowercased text and then remove all the punctuation\n",
        "        translator=str.maketrans('','',string.punctuation)\n",
        "        text_punct=word.translate(translator)\n",
        "        return text_punct\n",
        "    result=remove_punctuation(text_lower) #storing the resulting body of  text in variable result\n",
        " \n",
        "    #removing stopwords \n",
        "    def remove_stopwords(word):#The function will tokenize the result and then filter off  the stop_words \n",
        "        stop_words=set(stopwords.words(\"english\")) \n",
        "        word_tokens= word_tokenize(word)\n",
        "        result=[word for word in word_tokens if word not in stop_words] \n",
        "        return result\n",
        "    preprocessed_tweet=remove_stopwords(result)\n",
        " \n",
        "    #replacing the values of the lyrics column in the dataframe with the  preprocessed  lyrics\n",
        "    data.iat[i,3]=preprocessed_tweet"
      ],
      "execution_count": null,
      "outputs": []
    },
    {
      "cell_type": "code",
      "metadata": {
        "id": "wpwD7SC96lNH",
        "colab_type": "code",
        "colab": {}
      },
      "source": [
        "sentence =nltk.sent_tokenize(text)\n",
        "word=[nltk.word_tokenize(sentence) for sentence in sentences]\n",
        "model=Word2Vec(sentences,min_count=1)\n",
        "words=model.wv.vocab"
      ],
      "execution_count": null,
      "outputs": []
    }
  ]
}